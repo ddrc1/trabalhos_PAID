{
 "cells": [
  {
   "cell_type": "code",
   "execution_count": 144,
   "id": "822ea453",
   "metadata": {},
   "outputs": [],
   "source": [
    "import pandas as pd\n",
    "import numpy as np\n",
    "import tensorflow as tf\n",
    "from tensorflow.keras.optimizers import Adam\n",
    "from tensorflow.keras import layers, models\n",
    "import pickle\n",
    "import matplotlib.pyplot as plt\n",
    "import gzip\n",
    "from sklearn.preprocessing import OneHotEncoder\n",
    "from sklearn.model_selection import train_test_split\n",
    "from sklearn.metrics import accuracy_score"
   ]
  },
  {
   "cell_type": "code",
   "execution_count": 145,
   "id": "b291bc23",
   "metadata": {},
   "outputs": [],
   "source": [
    "file = gzip.open(\"./dataset.pickle\",'rb')\n",
    "x_train, y_train, x_test, y_test = pickle.load(file)\n",
    "file.close()"
   ]
  },
  {
   "cell_type": "code",
   "execution_count": 146,
   "id": "59ccb302",
   "metadata": {},
   "outputs": [],
   "source": [
    " x_train, x_val, y_train, y_val = train_test_split(x_train, y_train, train_size=0.9, shuffle=True)"
   ]
  },
  {
   "cell_type": "code",
   "execution_count": 147,
   "id": "2942a230",
   "metadata": {},
   "outputs": [
    {
     "name": "stdout",
     "output_type": "stream",
     "text": [
      "Tamanhos: 13204 1468 3669\n",
      "Formato: (13204, 64, 64)\n",
      "Balanceamento -> Classe 0: 133 Classe 1: 7205 Classe 2: 5866\n"
     ]
    }
   ],
   "source": [
    "print(\"Tamanhos:\", len(x_train), len(x_val), len(x_test))\n",
    "print(\"Formato:\", x_train.shape)\n",
    "print(\"Balanceamento ->\", \"Classe 0:\", len(y_train[y_train==0]), \n",
    "                          \"Classe 1:\", len(y_train[y_train==1]), \n",
    "                          \"Classe 2:\", len(y_train[y_train==2]))"
   ]
  },
  {
   "cell_type": "code",
   "execution_count": 148,
   "id": "51d68aa3",
   "metadata": {},
   "outputs": [],
   "source": [
    "enc = OneHotEncoder(handle_unknown='ignore')\n",
    "enc.fit(y_train.reshape(-1, 1))\n",
    "y_train = enc.transform(y_train.reshape(-1, 1)).toarray()\n",
    "y_test = enc.transform(y_test.reshape(-1, 1)).toarray()\n",
    "y_val = enc.transform(y_val.reshape(-1, 1)).toarray()"
   ]
  },
  {
   "cell_type": "code",
   "execution_count": 149,
   "id": "5da7c21a",
   "metadata": {},
   "outputs": [],
   "source": [
    "x_train = np.expand_dims(x_train, -1)\n",
    "x_test = np.expand_dims(x_test, -1)\n",
    "x_val = np.expand_dims(x_val, -1)"
   ]
  },
  {
   "cell_type": "code",
   "execution_count": 150,
   "id": "95ba85de",
   "metadata": {},
   "outputs": [],
   "source": [
    "train = tf.data.Dataset.from_tensor_slices((x_train, y_train))\n",
    "test = tf.data.Dataset.from_tensor_slices((x_test, y_test))\n",
    "val = tf.data.Dataset.from_tensor_slices((x_val, y_val))"
   ]
  },
  {
   "cell_type": "code",
   "execution_count": 151,
   "id": "69429cad",
   "metadata": {},
   "outputs": [],
   "source": [
    "train = train.batch(32)\n",
    "test = test.batch(32)\n",
    "val = val.batch(32)"
   ]
  },
  {
   "cell_type": "code",
   "execution_count": 128,
   "id": "4daacadd",
   "metadata": {},
   "outputs": [
    {
     "name": "stdout",
     "output_type": "stream",
     "text": [
      "Model: \"sequential_18\"\n",
      "_________________________________________________________________\n",
      "Layer (type)                 Output Shape              Param #   \n",
      "=================================================================\n",
      "conv2d_50 (Conv2D)           (None, None, None, 32)    320       \n",
      "_________________________________________________________________\n",
      "max_pooling2d_32 (MaxPooling (None, None, None, 32)    0         \n",
      "_________________________________________________________________\n",
      "conv2d_51 (Conv2D)           (None, None, None, 64)    18496     \n",
      "_________________________________________________________________\n",
      "max_pooling2d_33 (MaxPooling (None, None, None, 64)    0         \n",
      "_________________________________________________________________\n",
      "conv2d_52 (Conv2D)           (None, None, None, 128)   73856     \n",
      "_________________________________________________________________\n",
      "global_average_pooling2d_14  (None, 128)               0         \n",
      "_________________________________________________________________\n",
      "dense_24 (Dense)             (None, 128)               16512     \n",
      "_________________________________________________________________\n",
      "dense_25 (Dense)             (None, 3)                 387       \n",
      "=================================================================\n",
      "Total params: 109,571\n",
      "Trainable params: 109,571\n",
      "Non-trainable params: 0\n",
      "_________________________________________________________________\n"
     ]
    }
   ],
   "source": [
    "model = models.Sequential()\n",
    "model.add(layers.Input((None, None, 1)))\n",
    "model.add(layers.Conv2D(filters=32, kernel_size=3, activation='relu', padding=\"same\"))\n",
    "model.add(layers.MaxPooling2D(pool_size=(2, 2)))\n",
    "model.add(layers.Conv2D(filters=64, kernel_size=3, activation='relu', padding=\"same\"))\n",
    "model.add(layers.MaxPooling2D(pool_size=(2, 2)))\n",
    "model.add(layers.Conv2D(filters=128, kernel_size=3, activation='relu', padding=\"same\"))\n",
    "model.add(layers.GlobalAveragePooling2D())\n",
    "model.add(layers.Dense(128, activation='relu'))\n",
    "model.add(layers.Dense(3, activation='softmax'))\n",
    "\n",
    "opt = Adam(learning_rate=0.001)\n",
    "model.compile(loss = 'categorical_crossentropy', optimizer=opt, metrics=['accuracy'])\n",
    "model.summary()"
   ]
  },
  {
   "cell_type": "code",
   "execution_count": 130,
   "id": "c926e619",
   "metadata": {},
   "outputs": [
    {
     "name": "stdout",
     "output_type": "stream",
     "text": [
      "Epoch 1/10\n",
      "413/413 [==============================] - 14s 34ms/step - loss: 0.3208 - accuracy: 0.8737 - val_loss: 0.0744 - val_accuracy: 0.9748\n",
      "Epoch 2/10\n",
      "413/413 [==============================] - 16s 39ms/step - loss: 0.0457 - accuracy: 0.9865 - val_loss: 0.0344 - val_accuracy: 0.9898\n",
      "Epoch 3/10\n",
      "413/413 [==============================] - 19s 46ms/step - loss: 0.0447 - accuracy: 0.9846 - val_loss: 0.0453 - val_accuracy: 0.9877\n",
      "Epoch 4/10\n",
      "413/413 [==============================] - 19s 46ms/step - loss: 0.0200 - accuracy: 0.9936 - val_loss: 0.0177 - val_accuracy: 0.9959\n",
      "Epoch 5/10\n",
      "413/413 [==============================] - 19s 46ms/step - loss: 0.0153 - accuracy: 0.9951 - val_loss: 0.0144 - val_accuracy: 0.9959\n",
      "Epoch 6/10\n",
      "413/413 [==============================] - 19s 46ms/step - loss: 0.0144 - accuracy: 0.9955 - val_loss: 0.0058 - val_accuracy: 0.9980\n",
      "Epoch 7/10\n",
      "413/413 [==============================] - 19s 46ms/step - loss: 0.0106 - accuracy: 0.9964 - val_loss: 0.0115 - val_accuracy: 0.9959\n",
      "Epoch 8/10\n",
      "413/413 [==============================] - 17s 42ms/step - loss: 0.0081 - accuracy: 0.9977 - val_loss: 0.0085 - val_accuracy: 0.9966\n",
      "Epoch 9/10\n",
      "413/413 [==============================] - 18s 43ms/step - loss: 0.0099 - accuracy: 0.9966 - val_loss: 0.0778 - val_accuracy: 0.9782\n",
      "Epoch 10/10\n",
      "413/413 [==============================] - 19s 46ms/step - loss: 0.0066 - accuracy: 0.9976 - val_loss: 0.0071 - val_accuracy: 0.9973\n"
     ]
    }
   ],
   "source": [
    "epochs=10\n",
    "history = model.fit(train, epochs=epochs, validation_data=val)"
   ]
  },
  {
   "cell_type": "code",
   "execution_count": 165,
   "id": "1aa5f971",
   "metadata": {},
   "outputs": [
    {
     "name": "stdout",
     "output_type": "stream",
     "text": [
      "115/115 [==============================] - 1s 12ms/step - loss: 0.0072 - accuracy: 0.9978\n"
     ]
    }
   ],
   "source": [
    "predictions = model.evaluate(test)"
   ]
  },
  {
   "cell_type": "code",
   "execution_count": null,
   "id": "443f97f3",
   "metadata": {},
   "outputs": [],
   "source": []
  }
 ],
 "metadata": {
  "kernelspec": {
   "display_name": "Python 3 (ipykernel)",
   "language": "python",
   "name": "python3"
  },
  "language_info": {
   "codemirror_mode": {
    "name": "ipython",
    "version": 3
   },
   "file_extension": ".py",
   "mimetype": "text/x-python",
   "name": "python",
   "nbconvert_exporter": "python",
   "pygments_lexer": "ipython3",
   "version": "3.8.0"
  }
 },
 "nbformat": 4,
 "nbformat_minor": 5
}
